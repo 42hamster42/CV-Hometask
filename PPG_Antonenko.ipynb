{
 "cells": [
  {
   "cell_type": "markdown",
   "metadata": {},
   "source": [
    "Домашнее задание 1"
   ]
  },
  {
   "cell_type": "markdown",
   "metadata": {},
   "source": [
    "# Patterned Pixel Grouping"
   ]
  },
  {
   "cell_type": "markdown",
   "metadata": {},
   "source": [
    "В этом задании надо было воспроизвести один из алгоритмов demosaicing-а\n",
    "\n",
    "Я выбрала алгоритм Patterned Pixel Grouping\n"
   ]
  },
  {
   "cell_type": "code",
   "execution_count": 1,
   "metadata": {},
   "outputs": [],
   "source": [
    "import numpy as np\n",
    "import cv2"
   ]
  },
  {
   "cell_type": "code",
   "execution_count": 2,
   "metadata": {},
   "outputs": [],
   "source": [
    "img = cv2.imread('RGB_CFA.bmp', cv2.IMREAD_UNCHANGED)"
   ]
  },
  {
   "cell_type": "markdown",
   "metadata": {},
   "source": [
    "сначала посмотрим на изображение, его размер"
   ]
  },
  {
   "cell_type": "code",
   "execution_count": 3,
   "metadata": {},
   "outputs": [
    {
     "data": {
      "text/plain": [
       "-1"
      ]
     },
     "execution_count": 3,
     "metadata": {},
     "output_type": "execute_result"
    }
   ],
   "source": [
    "window_name = 'img'\n",
    "  \n",
    "cv2.imshow(window_name, img)\n",
    "\n",
    "cv2.waitKey(0) \n",
    "  "
   ]
  },
  {
   "cell_type": "code",
   "execution_count": 4,
   "metadata": {},
   "outputs": [
    {
     "data": {
      "text/plain": [
       "(2073, 4176, 3)"
      ]
     },
     "execution_count": 4,
     "metadata": {},
     "output_type": "execute_result"
    }
   ],
   "source": [
    "img.shape"
   ]
  },
  {
   "cell_type": "markdown",
   "metadata": {},
   "source": [
    "алгоритм состоит из трех шагов"
   ]
  },
  {
   "cell_type": "markdown",
   "metadata": {},
   "source": [
    "первым шагом дополним незаполненные зеленые компоненты\n",
    "\n",
    "для этого сначала смотрим, в каком направлении меньше всего \"меняется\" изображение, вычислив градиент.\n",
    "\n",
    "потом определяем значение зеленой компоненты усредняя компоненты зеленого вдоль направления, в котором меньше всего  \"меняется\" изображение\n"
   ]
  },
  {
   "cell_type": "code",
   "execution_count": 5,
   "metadata": {},
   "outputs": [],
   "source": [
    "def step_1_green (img, i, j):\n",
    "    col = r\n",
    "    if i % 2 == 1:\n",
    "            col = b\n",
    "    def abs_grad(direction, col, img, i, j):\n",
    "        direct = directions[direction]\n",
    "        return abs(abs(int(img[i][ j][col]) - int(img[i+ 2*direct[0]][ j+2*direct[1]] [col]))* 2 + abs(int(img[i- direct[0] ][ j - direct[1]] [g]) - int(img[i+ direct[0] ][ j + direct[1]][g])))\n",
    "    \n",
    "    \n",
    "    grads = {}\n",
    "    for direct in directions.keys():\n",
    "        grads[direct] = abs_grad(direct, col, img, i, j)\n",
    "    \n",
    "    def green(direction, col, img, i, j):\n",
    "        direct = directions[direction]\n",
    "        \n",
    "        return  (int(img[i+ direct[0] ][ j + direct[1]][g]) * 3 + int(img[i- direct[0] ][ j - direct[1]][g]) + int(img[i][j][col]) -  int(img[i + 2*direct[0]][ j+2*direct[1]][col])) / 4\n",
    "    img[i][j][g] = form(green(min(grads), col, img, i, j))\n",
    "    return img[i][j][g]"
   ]
  },
  {
   "cell_type": "code",
   "execution_count": 6,
   "metadata": {},
   "outputs": [
    {
     "data": {
      "text/plain": [
       "numpy.uint8"
      ]
     },
     "execution_count": 6,
     "metadata": {},
     "output_type": "execute_result"
    }
   ],
   "source": [
    "type(img[0][0][0])"
   ]
  },
  {
   "cell_type": "markdown",
   "metadata": {},
   "source": [
    "числа в img принадлежат [0, 255], поэтому перед тем, как положить число в матрицу, проверим, что оно из интервала [0, 255] \n",
    "\n",
    "(если этого не сделать сразу ошибки не будет, а число преобразуется автоматически и не так, как надо и ошибку будет сложно найти )"
   ]
  },
  {
   "cell_type": "code",
   "execution_count": 7,
   "metadata": {},
   "outputs": [],
   "source": [
    "def form(a):\n",
    "    if a < 0:\n",
    "        return 0\n",
    "    if a > 255:\n",
    "        return 255\n",
    "    return a"
   ]
  },
  {
   "cell_type": "code",
   "execution_count": 8,
   "metadata": {},
   "outputs": [],
   "source": [
    "# вспомогательная функция\n",
    "def hue_transit(l_1, l_2, l_3, v_1, v_3):\n",
    "        if (l_1 < l_2 and l_2 < l_3) or (l_1 > l_2 and l_2 > l_3) :\n",
    "            return int(v_1) + (int(v_3) - int(v_1)) * ((int(l_2) - int(l_1))/(int(l_3) - int(l_1)))\n",
    "        else:\n",
    "            return (int(v_1) + int(v_3)) / 2 + (int(l_2) - (int(l_1) + int(l_3)) / 2) / 2 "
   ]
  },
  {
   "cell_type": "markdown",
   "metadata": {},
   "source": [
    "вторым шагом определим красные и синии компоненты, в клетках, в которых неопределены красный и синий  одновременно\n",
    "\n",
    "мы смотрим на \"поведение\" зеленых компонент в центральной и соседних клетках и определяем значение красной и синей комепонент так, чтобы их поведение в  центральной и соседних клетках было похоже на поведение зеленых компонент\n"
   ]
  },
  {
   "cell_type": "code",
   "execution_count": 9,
   "metadata": {},
   "outputs": [],
   "source": [
    "def step_2_r_b(img, i, j):\n",
    "    r = 2\n",
    "    b = 0\n",
    "    if i%2 == 1:\n",
    "        img[i][j][r] =form( hue_transit(img[i - 1][j][g], img[i][j][g], img[i+1][j][g], img[i - 1][j][r],  img[i+1][j][r]))\n",
    "        img[i][j][b] = form( hue_transit( img[i][j - 1][g], img[i][j][g], img[i][j + 1][g], img[i][j - 1][b], img[i][j + 1][b]))\n",
    "    else:\n",
    "        img[i][j][b] = form( hue_transit(img[i - 1][j][g], img[i][j][g], img[i+1][j][g], img[i - 1][j][b],  img[i+1][j][b]))\n",
    "        img[i][j][r] = form( hue_transit( img[i][j - 1][g], img[i][j][g], img[i][j + 1][g], img[i][j - 1][r], img[i][j + 1][r]))"
   ]
  },
  {
   "cell_type": "markdown",
   "metadata": {},
   "source": [
    "вычислим компоненту B для пикселей, имевших компоненту R, и наоборот.\n",
    "\n",
    "для этого (как в шаге 1) сначала смотрим, в каком направлении ('NW' или 'NE') меньше всего \"меняется\" изображение, вычислив градиент.\n",
    "\n",
    "потом определяем значение  компоненты (B или R) имитируя \"поведение\"  компоненты зеленого вдоль  направления найменьшего градиента"
   ]
  },
  {
   "cell_type": "code",
   "execution_count": 10,
   "metadata": {},
   "outputs": [],
   "source": [
    "def step_3_r_b(img, i, j):\n",
    "    \n",
    "    #directions = {'ne': [-1, 1], 'nw': [1, 1]}\n",
    "    col  = b\n",
    "    if i%2==1  :\n",
    "        col = r\n",
    "    def grad_s_3(direction, col, img, i, j):\n",
    "        direct = directions[direction]\n",
    "        return abs(int(img[i + direct[0]][j + direct[1]][col]) - int(img[i - direct[0]][j - direct[1]][col])) + abs(int(img[i + 2*direct[0]][j + 2*direct[1]][(col//2 +2)%3]) - int(img[i ][j ][(col//2 +2)%3])) + abs(int(img[i - 2*direct[0]][j - 2*direct[1]][(col//2 +2)%3]) - int(img[i ][j ][(col//2 +2)%3])) + abs(int(img[i + direct[0]][j + direct[1]][g]) - int(img[i ][j ][g])) + abs(int(img[i - direct[0]][j - direct[1]][g]) - int(img[i ][j ][g]))\n",
    "        \n",
    "           \n",
    "    d_nw = grad_s_3('nw',col, img, i, j)\n",
    "    d_ne = grad_s_3('ne', col, img, i, j)\n",
    "    \n",
    "    if d_ne < d_nw:\n",
    "        img[i][j][col] = form( hue_transit(img[i + 1][j - 1][g], img[i][j][g], img[i - 1][j + 1][g], img[i+1][j-1][col], img[i-1][j+1][col]))\n",
    "        return img[i][j][col] \n",
    "    else:\n",
    "        img[i][j][col] = form( hue_transit(img[i + 1][j + 1][g], img[i][j][g], img[i - 1][j - 1][g], img[i+1][j+1][col], img[i-1][j-1][col]))\n",
    "        return img[i][j][col] "
   ]
  },
  {
   "cell_type": "code",
   "execution_count": 14,
   "metadata": {},
   "outputs": [],
   "source": [
    "r =2\n",
    "g = 1\n",
    "b = 0\n",
    "directions = {'n': np.array([-1, 0]), 's': np.array([1, 0]), 'e':np.array([0, 1]), 'w': np.array([0, -1]), 'ne': [-1, 1], 'nw': [1, 1]}\n"
   ]
  },
  {
   "cell_type": "code",
   "execution_count": 15,
   "metadata": {},
   "outputs": [],
   "source": [
    "def ppg(img):\n",
    "   # r =2\n",
    "   # g = 1\n",
    "   # b = 0\n",
    "   # directions = {'n': np.array([-1, 0]), 's': np.array([1, 0]), 'e':np.array([0, 1]), 'w': np.array([0, -1]), 'ne': [-1, 1], 'nw': [1, 1]}\n",
    "\n",
    "    for i in range(2, img.shape[0] - 2):\n",
    "        for j in range(2, img.shape[1] - 2):\n",
    "            if i%2 == j%2:\n",
    "                step_1_green (img, i, j)\n",
    "    \n",
    "    for i in range(2, img.shape[0] - 2):\n",
    "        for j in range(2, img.shape[1] - 2):\n",
    "            if i%2 != j%2:\n",
    "                step_2_r_b(img, i, j)\n",
    "    \n",
    "\n",
    "    for i in range(2, img.shape[0] - 2):\n",
    "        for j in range(2, img.shape[1] - 2):\n",
    "            if i%2 == j%2:\n",
    "                step_3_r_b(img, i, j)\n",
    "    #return img\n"
   ]
  },
  {
   "cell_type": "markdown",
   "metadata": {},
   "source": [
    "померяем время работы"
   ]
  },
  {
   "cell_type": "code",
   "execution_count": 16,
   "metadata": {},
   "outputs": [
    {
     "name": "stdout",
     "output_type": "stream",
     "text": [
      "Wall time: 3min 9s\n"
     ]
    }
   ],
   "source": [
    "%%time\n",
    "ppg(img)\n"
   ]
  },
  {
   "cell_type": "markdown",
   "metadata": {},
   "source": [
    "в данном изображннии 8.656848 мегапикселей, следовательно скорость работы   21.8   сек / мегапиксель"
   ]
  },
  {
   "cell_type": "code",
   "execution_count": 116,
   "metadata": {},
   "outputs": [
    {
     "data": {
      "text/plain": [
       "8.656848"
      ]
     },
     "execution_count": 116,
     "metadata": {},
     "output_type": "execute_result"
    }
   ],
   "source": [
    "(img.shape[0]*img.shape[1])/1000000"
   ]
  },
  {
   "cell_type": "code",
   "execution_count": 17,
   "metadata": {},
   "outputs": [
    {
     "data": {
      "text/plain": [
       "21.832426767802783"
      ]
     },
     "execution_count": 17,
     "metadata": {},
     "output_type": "execute_result"
    }
   ],
   "source": [
    "(3*60 + 9) / 8.656848"
   ]
  },
  {
   "cell_type": "code",
   "execution_count": 18,
   "metadata": {},
   "outputs": [],
   "source": [
    "for i in [0, 1, img.shape[0] - 2, img.shape[0] - 1]:\n",
    "        for j in range(1, img.shape[1] - 1):\n",
    "            if i%2 == j%2:\n",
    "                   img[i][j][g] = form(int(img[i][j - 1][g])+int(img[i][j + 1][g])/2)\n",
    "            else:\n",
    "                if i%2 == 1:\n",
    "                    img[i][j][b] = form(int(img[i][j - 1][b])+int(img[i][j + 1][b])/2)\n",
    "                else:\n",
    "                    img[i][j][r] = form(int(img[i][j - 1][r])+int(img[i][j + 1][r])/2)\n",
    "           \n",
    "\n",
    "        \n",
    "for i in [0, 1, img.shape[0] - 2, img.shape[0] - 1]:\n",
    "        for j in range(1, img.shape[1] - 1):        \n",
    "        \n",
    "            if i == 1:\n",
    "                img[i][j][r] = form(int(img[i - 1][j][r])+int(img[i + 1][j][r])/2)\n",
    "            if i == 0:\n",
    "                img[i][j][b] = img[i + 1][j][b]\n",
    "\n",
    "            if i == (img.shape[0] - 2):\n",
    "                img[i][j][r] = form(int(img[i - 1][j][r])+int(img[i + 1][j][r])/2)\n",
    "            if i == (img.shape[0] - 1):\n",
    "                img[i][j][b] = img[i - 1][j][b]\n"
   ]
  },
  {
   "cell_type": "code",
   "execution_count": 19,
   "metadata": {},
   "outputs": [],
   "source": [
    "for j in [0, 1, img.shape[1] - 2, img.shape[1] - 1]:\n",
    "        for i in range(1, img.shape[0] - 1):\n",
    "            if i%2 == j%2:\n",
    "                img[i][j][g] = form(int(img[i- 1][j][g])+int(img[i+1][j][g])/2)\n",
    "            else:\n",
    "                if j%2 == 1:\n",
    "                    img[i][j][b] = form(int(img[i+1][j][b])+int(img[i-1][j][b])/2)\n",
    "                else:\n",
    "                    img[i][j][r] = form(int(img[i+ 1][j][r])+int(img[i- 1][j][r])/2)\n",
    "            \n",
    "for j in [0, 1, img.shape[1] - 2, img.shape[1] - 1]:\n",
    "        for i in range(1, img.shape[0] - 1):\n",
    "            \n",
    "                if j%2 == 1:\n",
    "                    img[i][j][r] = img[i][j - 1][r]\n",
    "                else:\n",
    "                    img[i][j][b] = img[i][j + 1][b]\n",
    "                                "
   ]
  },
  {
   "cell_type": "code",
   "execution_count": 20,
   "metadata": {},
   "outputs": [],
   "source": [
    "img[0][0][b] = img[1][1][b]\n",
    "img[0][0][g] = img[1][1][g]\n",
    "\n",
    "img[img.shape[0] - 1][0][b] = img[img.shape[0] - 2][1][b]\n",
    "img[img.shape[0] - 1][0][r] = img[img.shape[0] - 2][1][r]\n",
    "\n",
    "img[0][img.shape[1] - 1][b] = img[1][img.shape[1] - 2][b]\n",
    "img[0][img.shape[1] - 1][r] = img[1][img.shape[1] - 2][g]\n",
    "\n",
    "img[img.shape[0] - 1][img.shape[1] - 1][g] = img[img.shape[0] - 2][img.shape[1] - 2][g]\n",
    "img[img.shape[0] - 1][img.shape[1] - 1][r] = img[img.shape[0] - 2][img.shape[1] - 2][g]"
   ]
  },
  {
   "cell_type": "markdown",
   "metadata": {},
   "source": [
    "сохраним получившуюся картинку"
   ]
  },
  {
   "cell_type": "code",
   "execution_count": 22,
   "metadata": {},
   "outputs": [
    {
     "data": {
      "text/plain": [
       "True"
      ]
     },
     "execution_count": 22,
     "metadata": {},
     "output_type": "execute_result"
    }
   ],
   "source": [
    "cv2.imwrite('result.bmp', img)"
   ]
  },
  {
   "cell_type": "markdown",
   "metadata": {},
   "source": [
    "Исследуемый алгоритм демозаикинга вычисляет значение клетки как функцию от соседних клеток, которая похожа на взвешенную сумму соседних клеток\n",
    "\n",
    "поэтому он хорошо работает на плавных переходах цвета (это видно на  растяжке и картинке)\n"
   ]
  },
  {
   "cell_type": "code",
   "execution_count": 23,
   "metadata": {},
   "outputs": [
    {
     "data": {
      "image/png": "[encoded data removed]",
      "text/plain": [
       "<IPython.core.display.Image object>"
      ]
     },
     "execution_count": 23,
     "metadata": {},
     "output_type": "execute_result"
    }
   ],
   "source": [
    "from IPython.display import Image\n",
    "Image(\"color.png\")"
   ]
  },
  {
   "cell_type": "code",
   "execution_count": 24,
   "metadata": {},
   "outputs": [
    {
     "data": {
      "image/png": "[encoded data removed]",
      "text/plain": [
       "<IPython.core.display.Image object>"
      ]
     },
     "execution_count": 24,
     "metadata": {},
     "output_type": "execute_result"
    }
   ],
   "source": [
    "Image(\"color_.png\")"
   ]
  },
  {
   "cell_type": "markdown",
   "metadata": {},
   "source": [
    " но на четких границах оставляет артефакты в виде 1 - 4 цветных пикселей на границе фигуры, которые являются средним границы и фона\n"
   ]
  },
  {
   "cell_type": "code",
   "execution_count": 25,
   "metadata": {},
   "outputs": [
    {
     "data": {
      "image/png": "[encoded data removed]",
      "text/plain": [
       "<IPython.core.display.Image object>"
      ]
     },
     "execution_count": 25,
     "metadata": {},
     "output_type": "execute_result"
    }
   ],
   "source": [
    "Image(\"artefacts.png\")"
   ]
  },
  {
   "cell_type": "markdown",
   "metadata": {},
   "source": [
    "по этой причине черно-белый шум превращается в цветной т. к. это много маленьких (1 - 5 пиксилей) фигур с относительно четкими границами"
   ]
  },
  {
   "cell_type": "code",
   "execution_count": 80,
   "metadata": {},
   "outputs": [
    {
     "data": {
      "image/png": "[encoded data removed]",
      "text/plain": [
       "<IPython.core.display.Image object>"
      ]
     },
     "execution_count": 80,
     "metadata": {},
     "output_type": "execute_result"
    }
   ],
   "source": [
    "Image(\"noise.png\")"
   ]
  },
  {
   "cell_type": "markdown",
   "metadata": {},
   "source": [
    "оценим разрешение полученной картинки\n",
    "\n",
    "по горизонтали и верликали 11 штрихов на мм изображения"
   ]
  },
  {
   "cell_type": "markdown",
   "metadata": {},
   "source": [
    "у исходного изображения разрешение горизонтали и верликали 16 штрихов на мм изображения\n",
    "\n",
    "следовательно разрешение  восстановленного изображения уменьшилось в 1.45 раз по сравнению с оригиналом"
   ]
  },
  {
   "cell_type": "code",
   "execution_count": 27,
   "metadata": {},
   "outputs": [
    {
     "data": {
      "text/plain": [
       "1.4545454545454546"
      ]
     },
     "execution_count": 27,
     "metadata": {},
     "output_type": "execute_result"
    }
   ],
   "source": [
    "16/11"
   ]
  },
  {
   "cell_type": "markdown",
   "metadata": {},
   "source": [
    "померяем PSNR"
   ]
  },
  {
   "cell_type": "code",
   "execution_count": 49,
   "metadata": {},
   "outputs": [],
   "source": [
    "img_or = cv2.imread('RGB_CFA.bmp', cv2.IMREAD_UNCHANGED)"
   ]
  },
  {
   "cell_type": "code",
   "execution_count": 70,
   "metadata": {},
   "outputs": [
    {
     "data": {
      "text/plain": [
       "3.2055732329367"
      ]
     },
     "execution_count": 70,
     "metadata": {},
     "output_type": "execute_result"
    }
   ],
   "source": [
    "cv2.PSNR(img_or, img, 255)"
   ]
  },
  {
   "cell_type": "code",
   "execution_count": 51,
   "metadata": {},
   "outputs": [],
   "source": [
    "# я много перепроверяла "
   ]
  },
  {
   "cell_type": "code",
   "execution_count": 75,
   "metadata": {},
   "outputs": [],
   "source": [
    "def y(img):\n",
    "    return 0.299*img[:,:,2] + 0.587 *img[:,:,1] + 0.114*img[:,:,0]\n",
    "\n",
    "def psnr(img_1, img_2):\n",
    "    \n",
    "    mse = np.mean((y(img_1) - y(img_2))**2)\n",
    "    p = 10 * np.log10(255*255/mse)\n",
    "    return p"
   ]
  },
  {
   "cell_type": "code",
   "execution_count": 76,
   "metadata": {},
   "outputs": [
    {
     "data": {
      "text/plain": [
       "5.405277225921475"
      ]
     },
     "execution_count": 76,
     "metadata": {},
     "output_type": "execute_result"
    }
   ],
   "source": [
    "psnr(img_or, img)"
   ]
  },
  {
   "cell_type": "code",
   "execution_count": 73,
   "metadata": {},
   "outputs": [
    {
     "data": {
      "text/plain": [
       "5.405277225921514"
      ]
     },
     "execution_count": 73,
     "metadata": {},
     "output_type": "execute_result"
    }
   ],
   "source": [
    "cv2.PSNR(y(img_or), y(img), 255)"
   ]
  },
  {
   "cell_type": "code",
   "execution_count": null,
   "metadata": {},
   "outputs": [],
   "source": [
    "# получается, что библиотеная функция считает метрику не для серого"
   ]
  },
  {
   "cell_type": "code",
   "execution_count": null,
   "metadata": {},
   "outputs": [],
   "source": []
  },
  {
   "cell_type": "code",
   "execution_count": 79,
   "metadata": {},
   "outputs": [
    {
     "data": {
      "text/plain": [
       "5.405732339122318"
      ]
     },
     "execution_count": 79,
     "metadata": {},
     "output_type": "execute_result"
    }
   ],
   "source": [
    "img_y = cv2.cvtColor(img, cv2.COLOR_BGR2GRAY)\n",
    "img_or_y = cv2.cvtColor(img_or, cv2.COLOR_BGR2GRAY)\n",
    "cv2.PSNR(img_y, img_or_y)"
   ]
  },
  {
   "cell_type": "code",
   "execution_count": null,
   "metadata": {},
   "outputs": [],
   "source": []
  }
 ],
 "metadata": {
  "kernelspec": {
   "display_name": "Python 3",
   "language": "python",
   "name": "python3"
  },
  "language_info": {
   "codemirror_mode": {
    "name": "ipython",
    "version": 3
   },
   "file_extension": ".py",
   "mimetype": "text/x-python",
   "name": "python",
   "nbconvert_exporter": "python",
   "pygments_lexer": "ipython3",
   "version": "3.7.4"
  }
 },
 "nbformat": 4,
 "nbformat_minor": 2
}
